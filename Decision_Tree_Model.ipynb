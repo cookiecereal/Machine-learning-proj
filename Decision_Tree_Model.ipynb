{
  "nbformat": 4,
  "nbformat_minor": 0,
  "metadata": {
    "colab": {
      "provenance": [],
      "include_colab_link": true
    },
    "kernelspec": {
      "name": "python3",
      "display_name": "Python 3"
    },
    "language_info": {
      "name": "python"
    }
  },
  "cells": [
    {
      "cell_type": "markdown",
      "metadata": {
        "id": "view-in-github",
        "colab_type": "text"
      },
      "source": [
        "<a href=\"https://colab.research.google.com/github/cookiecereal/Machine-learning-proj/blob/master/Decision_Tree_Model.ipynb\" target=\"_parent\"><img src=\"https://colab.research.google.com/assets/colab-badge.svg\" alt=\"Open In Colab\"/></a>"
      ]
    },
    {
      "cell_type": "code",
      "source": [
        "import pandas as pd\n",
        "from sklearn.model_selection import train_test_split\n",
        "from sklearn.linear_model import LogisticRegression\n",
        "from sklearn.metrics import accuracy_score\n",
        "\n",
        "# Load data from CSV file\n",
        "df = pd.read_csv('student-mat.csv')\n",
        "# Convert Finalgrade to pass (1) or fail (0) based on the specified criteria\n",
        "df['Finalgrade'] = df['Finalgrade'].apply(lambda x: 1 if 20 >= x >= 13.5 else 0)\n",
        "# Perform one-hot encoding for categorical variables\n",
        "df = pd.get_dummies(df, columns=['sex', 'schoolsup', 'famsup', 'paid', 'higher', 'internet'])\n",
        "# Save the modified DataFrame to a new CSV file\n",
        "df.to_csv('modified_student_data.csv', index=False)\n",
        "# Split the data into features (X) and target variable (y)\n",
        "X = df.drop('Finalgrade', axis=1)\n",
        "y = df['Finalgrade']\n",
        "# Split the data into training and testing sets\n",
        "X_train, X_test, y_train, y_test = train_test_split(X, y, test_size=0.2, random_state=42)\n",
        "# Save the training and testing sets to CSV files\n",
        "X_train.to_csv('X_train.csv', index=False)\n",
        "X_test.to_csv('X_test.csv', index=False)\n",
        "y_train.to_csv('y_train.csv', index=False, header=True)\n",
        "y_test.to_csv('y_test.csv', index=False, header=True)\n",
        "\n",
        "clf = LogisticRegression(max_iter=1000)\n",
        "clf.fit(X_train, y_train)\n",
        "y_pred = clf.predict(X_test)\n",
        "\n"
      ],
      "metadata": {
        "id": "MZL4F_MtMu3B"
      },
      "execution_count": null,
      "outputs": []
    },
    {
      "cell_type": "code",
      "source": [
        "import pandas as pd\n",
        "from sklearn.tree import DecisionTreeClassifier\n",
        "from sklearn.metrics import accuracy_score, classification_report\n",
        "from sklearn.model_selection import train_test_split\n",
        "\n",
        "X_train = pd.read_csv('X_train.csv')\n",
        "y_train = pd.read_csv('y_train.csv')\n",
        "y_train = y_train.values.ravel()\n",
        "clf = DecisionTreeClassifier()\n",
        "\n",
        "# Train the classifier\n",
        "clf.fit(X_train, y_train)\n",
        "\n",
        "# Load test data\n",
        "X_test = pd.read_csv('X_test.csv')\n",
        "\n",
        "# Make predictions on the test data\n",
        "test_predictions = clf.predict(X_test)\n",
        "\n",
        "# Save the predicted values to a CSV file\n",
        "predicted_values = pd.DataFrame({'Predicted_Values': test_predictions})\n",
        "predicted_values.to_csv('y_predict_decision_tree.csv', index=False)\n",
        "\n",
        "accuracy = accuracy_score(y_test, test_predictions)\n",
        "class_report = classification_report(y_test, test_predictions)\n",
        "print(f'Accuracy: {accuracy}')\n",
        "print(f'Classification Report:\\n{class_report}')"
      ],
      "metadata": {
        "colab": {
          "base_uri": "https://localhost:8080/"
        },
        "id": "mnwUYWtACBCC",
        "outputId": "c1e6fa2a-35a0-4a51-c8b7-a74eabaf7c7f"
      },
      "execution_count": null,
      "outputs": [
        {
          "output_type": "stream",
          "name": "stdout",
          "text": [
            "Accuracy: 0.6455696202531646\n",
            "Classification Report:\n",
            "              precision    recall  f1-score   support\n",
            "\n",
            "           0       0.71      0.79      0.75        53\n",
            "           1       0.45      0.35      0.39        26\n",
            "\n",
            "    accuracy                           0.65        79\n",
            "   macro avg       0.58      0.57      0.57        79\n",
            "weighted avg       0.63      0.65      0.63        79\n",
            "\n"
          ]
        }
      ]
    }
  ]
}